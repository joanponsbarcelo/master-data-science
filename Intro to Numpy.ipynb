{
 "cells": [
  {
   "cell_type": "markdown",
   "metadata": {},
   "source": [
    "# Intro to Numpy"
   ]
  },
  {
   "cell_type": "code",
   "execution_count": 2,
   "metadata": {},
   "outputs": [],
   "source": [
    "# Import numpy:\n",
    "\n",
    "import numpy as np"
   ]
  },
  {
   "cell_type": "code",
   "execution_count": 7,
   "metadata": {},
   "outputs": [],
   "source": [
    "# Array  to numpy array:\n",
    "\n",
    "normal_arr = [1,2,3,4,5]\n",
    "numpy_arr = np.array(normal_arr)"
   ]
  },
  {
   "cell_type": "code",
   "execution_count": 6,
   "metadata": {},
   "outputs": [
    {
     "name": "stdout",
     "output_type": "stream",
     "text": [
      "<class 'list'>\n",
      "<class 'numpy.ndarray'>\n"
     ]
    }
   ],
   "source": [
    "print(type(normal_arr))\n",
    "print(type(numpy_arr))"
   ]
  },
  {
   "cell_type": "code",
   "execution_count": 8,
   "metadata": {},
   "outputs": [
    {
     "name": "stdout",
     "output_type": "stream",
     "text": [
      "[1, 2, 3, 4, 5, 1, 2, 3, 4, 5]\n",
      "[ 2  4  6  8 10]\n"
     ]
    }
   ],
   "source": [
    "# Add, Substract, Multiply and Divide numpy arrays:\n",
    "\n",
    "print(normal_arr * 2)\n",
    "print(numpy_arr * 2)"
   ]
  },
  {
   "cell_type": "code",
   "execution_count": 9,
   "metadata": {},
   "outputs": [
    {
     "name": "stdout",
     "output_type": "stream",
     "text": [
      "[[1, 2, 3], [4, 5, 6]]\n",
      "4\n"
     ]
    }
   ],
   "source": [
    "# Numpy Array with two dimensions:\n",
    "\n",
    "np_2d = [[1,2,3],[4,5,6]]\n",
    "print(np_2d)\n",
    "\n",
    "#Slicing:\n",
    "\n",
    "print(np_2d[1][0])"
   ]
  },
  {
   "cell_type": "markdown",
   "metadata": {},
   "source": [
    "## Basic Functions"
   ]
  },
  {
   "cell_type": "code",
   "execution_count": 10,
   "metadata": {},
   "outputs": [
    {
     "name": "stdout",
     "output_type": "stream",
     "text": [
      "[4 4 4 9]\n",
      "2.75\n",
      "2.5\n",
      "1.479019945774904\n"
     ]
    }
   ],
   "source": [
    "a = [1,2,3,4]\n",
    "b = [3,2,1,5]\n",
    "\n",
    "a = np.array(a)\n",
    "b = np.array(b)\n",
    "\n",
    "# Add:\n",
    "\n",
    "print(a + b)\n",
    "\n",
    "# Mean:\n",
    "\n",
    "print(np.mean(b))\n",
    "\n",
    "# Median:\n",
    "\n",
    "print(np.median(b))\n",
    "\n",
    "# Standard Deviation:\n",
    "\n",
    "print(np.std(b))"
   ]
  },
  {
   "cell_type": "code",
   "execution_count": null,
   "metadata": {},
   "outputs": [],
   "source": []
  }
 ],
 "metadata": {
  "kernelspec": {
   "display_name": "Python 3",
   "language": "python",
   "name": "python3"
  },
  "language_info": {
   "codemirror_mode": {
    "name": "ipython",
    "version": 3
   },
   "file_extension": ".py",
   "mimetype": "text/x-python",
   "name": "python",
   "nbconvert_exporter": "python",
   "pygments_lexer": "ipython3",
   "version": "3.7.1"
  }
 },
 "nbformat": 4,
 "nbformat_minor": 2
}
