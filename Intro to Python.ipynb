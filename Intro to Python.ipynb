{
 "cells": [
  {
   "cell_type": "markdown",
   "metadata": {},
   "source": [
    "# Intro to Python"
   ]
  },
  {
   "cell_type": "markdown",
   "metadata": {},
   "source": [
    "## Comments"
   ]
  },
  {
   "cell_type": "code",
   "execution_count": 1,
   "metadata": {},
   "outputs": [],
   "source": [
    "# This is a comment"
   ]
  },
  {
   "cell_type": "code",
   "execution_count": 2,
   "metadata": {},
   "outputs": [
    {
     "data": {
      "text/plain": [
       "'\\nThere are two \\ncomment lines\\n\\n'"
      ]
     },
     "execution_count": 2,
     "metadata": {},
     "output_type": "execute_result"
    }
   ],
   "source": [
    "\"\"\"\n",
    "There are two \n",
    "comment lines\n",
    "\n",
    "\"\"\""
   ]
  },
  {
   "cell_type": "markdown",
   "metadata": {},
   "source": [
    "## Calculator"
   ]
  },
  {
   "cell_type": "code",
   "execution_count": 3,
   "metadata": {},
   "outputs": [
    {
     "name": "stdout",
     "output_type": "stream",
     "text": [
      "7\n",
      "3\n",
      "10\n",
      "2.5\n",
      "1\n",
      "25\n"
     ]
    }
   ],
   "source": [
    "# Add:\n",
    "print(2+5)\n",
    "\n",
    "# Substract:\n",
    "print(5-2)\n",
    "\n",
    "# Multiply\n",
    "print(5*2)\n",
    "\n",
    "# Divide:\n",
    "print(5/2)\n",
    "\n",
    "# Residue:\n",
    "print(5%2)\n",
    "\n",
    "# Exponents:\n",
    "print(5**2)"
   ]
  },
  {
   "cell_type": "markdown",
   "metadata": {},
   "source": [
    "## Variables"
   ]
  },
  {
   "cell_type": "code",
   "execution_count": 15,
   "metadata": {},
   "outputs": [
    {
     "name": "stdout",
     "output_type": "stream",
     "text": [
      "7\n"
     ]
    }
   ],
   "source": [
    "# Create variables:\n",
    "\n",
    "a = 7\n",
    "print(a)"
   ]
  },
  {
   "cell_type": "code",
   "execution_count": 14,
   "metadata": {},
   "outputs": [
    {
     "name": "stdout",
     "output_type": "stream",
     "text": [
      "3\n"
     ]
    }
   ],
   "source": [
    "# Modify values of the variables:\n",
    "\n",
    "a = 3\n",
    "print(a)"
   ]
  },
  {
   "cell_type": "code",
   "execution_count": 8,
   "metadata": {},
   "outputs": [
    {
     "name": "stdout",
     "output_type": "stream",
     "text": [
      "10\n"
     ]
    }
   ],
   "source": [
    "# Sum two vars:\n",
    "\n",
    "a = 7\n",
    "b = 3\n",
    "print(a + b)"
   ]
  },
  {
   "cell_type": "code",
   "execution_count": 13,
   "metadata": {},
   "outputs": [
    {
     "name": "stdout",
     "output_type": "stream",
     "text": [
      "<class 'int'>\n",
      "<class 'float'>\n",
      "<class 'str'>\n",
      "<class 'bool'>\n"
     ]
    }
   ],
   "source": [
    "# Var Types:\n",
    "\n",
    "int_var = 7\n",
    "float_var = 7.2\n",
    "str_var = 'String Variable'\n",
    "bool_var = False\n",
    "\n",
    "# Check var Type;\n",
    "\n",
    "print(type(int_var))\n",
    "print(type(float_var))\n",
    "print(type(string_var))\n",
    "print(type(bool_var))"
   ]
  },
  {
   "cell_type": "code",
   "execution_count": 12,
   "metadata": {},
   "outputs": [
    {
     "data": {
      "text/plain": [
       "str"
      ]
     },
     "execution_count": 12,
     "metadata": {},
     "output_type": "execute_result"
    }
   ],
   "source": [
    "# Change var type. Functions: int(), float(), str(), bool()\n",
    "\n",
    "int_var = str(int_var)\n",
    "type(int_var)"
   ]
  },
  {
   "cell_type": "markdown",
   "metadata": {},
   "source": [
    "## Arrays"
   ]
  },
  {
   "cell_type": "code",
   "execution_count": 48,
   "metadata": {},
   "outputs": [
    {
     "name": "stdout",
     "output_type": "stream",
     "text": [
      "[1, 2, 3, 4, 5, 6, 7, 8, 9]\n",
      "[1.1, 1.2, 1.3]\n",
      "['a', 'b', 'c', 'd']\n",
      "[False, True, False, False, True]\n"
     ]
    }
   ],
   "source": [
    "# Array types:\n",
    "\n",
    "int_arr = [1,2,3,4,5,6,7,8,9]\n",
    "print(int_arr)\n",
    "\n",
    "float_arr = [1.1,1.2,1.3]\n",
    "print(float_arr)\n",
    "\n",
    "str_arr = ['a','b','c','d']\n",
    "print(str_arr)\n",
    "\n",
    "bool_arr = [False, True, False, False, True]\n",
    "print(bool_arr)"
   ]
  },
  {
   "cell_type": "markdown",
   "metadata": {},
   "source": [
    "## Array of the Arrays"
   ]
  },
  {
   "cell_type": "code",
   "execution_count": 49,
   "metadata": {},
   "outputs": [
    {
     "name": "stdout",
     "output_type": "stream",
     "text": [
      "[[1, 2, 3], [4, 5, 6]]\n"
     ]
    }
   ],
   "source": [
    "l_arr = [[1,2,3],[4,5,6]]\n",
    "print(l_arr)"
   ]
  },
  {
   "cell_type": "markdown",
   "metadata": {},
   "source": [
    "## Slicing and Dancing"
   ]
  },
  {
   "cell_type": "code",
   "execution_count": 50,
   "metadata": {},
   "outputs": [
    {
     "name": "stdout",
     "output_type": "stream",
     "text": [
      "This is the first value of the int_arr: 1\n",
      "This is the last value of the str_arr: d\n",
      "This is the third value of the second list of the l_arr: 6\n"
     ]
    }
   ],
   "source": [
    "print(\"This is the first value of the int_arr: \" + str(int_arr[0]))\n",
    "print(\"This is the last value of the str_arr: \" + str_arr[-1])\n",
    "print(\"This is the third value of the second list of the l_arr: \" + str(l_arr[1][2]))"
   ]
  },
  {
   "cell_type": "code",
   "execution_count": 51,
   "metadata": {},
   "outputs": [
    {
     "name": "stdout",
     "output_type": "stream",
     "text": [
      "There are the three first values of int_arr: [1, 2, 3]\n"
     ]
    }
   ],
   "source": [
    "print(\"There are the three first values of int_arr: \" + str(int_arr[:3]))"
   ]
  },
  {
   "cell_type": "markdown",
   "metadata": {},
   "source": [
    "## Modify Arrays"
   ]
  },
  {
   "cell_type": "code",
   "execution_count": 52,
   "metadata": {},
   "outputs": [
    {
     "name": "stdout",
     "output_type": "stream",
     "text": [
      "[1, 2, 3, 4, 5, 6, 7, 8, 9]\n",
      "[1, 1.0, 3, 4, 5, 6, 7, 8, 9]\n"
     ]
    }
   ],
   "source": [
    "# Change Values of the Array:\n",
    "\n",
    "print(int_arr)\n",
    "int_arr[1] = 1.0\n",
    "print(int_arr)\n",
    "int_arr[1] = 2"
   ]
  },
  {
   "cell_type": "code",
   "execution_count": 53,
   "metadata": {},
   "outputs": [
    {
     "name": "stdout",
     "output_type": "stream",
     "text": [
      "[1, 2, 3, 4, 5, 6, 7, 8, 9]\n",
      "[1, 2, 3, 4, 5, 6, 7, 8, 9, 10]\n"
     ]
    }
   ],
   "source": [
    "# Add values of the array 1:\n",
    "\n",
    "print(int_arr)\n",
    "b = [10]\n",
    "print(int_arr + b)"
   ]
  },
  {
   "cell_type": "code",
   "execution_count": 44,
   "metadata": {},
   "outputs": [
    {
     "name": "stdout",
     "output_type": "stream",
     "text": [
      "[1, 2, 3, 4, 5, 6, 7, 8, 9, 11]\n"
     ]
    }
   ],
   "source": [
    "# Add values of the array 2:\n",
    "\n",
    "print(int_arr)\n",
    "int_arr.append(11)\n",
    "print(int_arr)"
   ]
  },
  {
   "cell_type": "code",
   "execution_count": 54,
   "metadata": {},
   "outputs": [
    {
     "name": "stdout",
     "output_type": "stream",
     "text": [
      "[1, 2, 3, 4, 5, 6]\n"
     ]
    }
   ],
   "source": [
    "# Concat two array:\n",
    "\n",
    "a = [1,2,3]\n",
    "b = [4,5,6]\n",
    "print(a + b)"
   ]
  },
  {
   "cell_type": "code",
   "execution_count": 55,
   "metadata": {},
   "outputs": [
    {
     "name": "stdout",
     "output_type": "stream",
     "text": [
      "[4, 5, 6]\n",
      "[4, 5]\n"
     ]
    }
   ],
   "source": [
    "# Delete values:\n",
    "\n",
    "print(b)\n",
    "del b[2]\n",
    "print(b)"
   ]
  },
  {
   "cell_type": "markdown",
   "metadata": {},
   "source": [
    "## Basic Functions"
   ]
  },
  {
   "cell_type": "code",
   "execution_count": 47,
   "metadata": {},
   "outputs": [
    {
     "name": "stdout",
     "output_type": "stream",
     "text": [
      "[1, 2, 3]\n",
      "<class 'list'>\n",
      "1\n",
      "1.0\n",
      "<class 'str'>\n",
      "4\n"
     ]
    }
   ],
   "source": [
    "# print --> prints output\n",
    "\n",
    "print (a)\n",
    "\n",
    "# type --> shows var type\n",
    "\n",
    "print(type(a))\n",
    "\n",
    "# int --> convert var into integer\n",
    "\n",
    "print(int(1.2))\n",
    "\n",
    "# float --> convert var into float\n",
    "\n",
    "print(float(1))\n",
    "\n",
    "# str --> convert var into string\n",
    "\n",
    "print(type(str(1)))\n",
    "\n",
    "# len --> inform the string or array lenght\n",
    "\n",
    "print(len(\"hola\"))"
   ]
  },
  {
   "cell_type": "code",
   "execution_count": null,
   "metadata": {},
   "outputs": [],
   "source": []
  }
 ],
 "metadata": {
  "kernelspec": {
   "display_name": "Python 3",
   "language": "python",
   "name": "python3"
  },
  "language_info": {
   "codemirror_mode": {
    "name": "ipython",
    "version": 3
   },
   "file_extension": ".py",
   "mimetype": "text/x-python",
   "name": "python",
   "nbconvert_exporter": "python",
   "pygments_lexer": "ipython3",
   "version": "3.7.1"
  }
 },
 "nbformat": 4,
 "nbformat_minor": 2
}
